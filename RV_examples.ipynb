{
  "nbformat": 4,
  "nbformat_minor": 0,
  "metadata": {
    "colab": {
      "name": "RV-examples.ipynb",
      "version": "0.3.2",
      "provenance": [],
      "include_colab_link": true
    },
    "kernelspec": {
      "name": "python3",
      "display_name": "Python 3"
    },
    "accelerator": "GPU"
  },
  "cells": [
    {
      "cell_type": "markdown",
      "metadata": {
        "id": "view-in-github",
        "colab_type": "text"
      },
      "source": [
        "<a href=\"https://colab.research.google.com/github/lukemckinstry/fastai-projects/blob/master/RV_examples.ipynb\" target=\"_parent\"><img src=\"https://colab.research.google.com/assets/colab-badge.svg\" alt=\"Open In Colab\"/></a>"
      ]
    },
    {
      "cell_type": "code",
      "metadata": {
        "id": "TirvEKdBpYBr",
        "colab_type": "code",
        "colab": {}
      },
      "source": [
        "!pip install rastervision==0.9.0rc1"
      ],
      "execution_count": 0,
      "outputs": []
    },
    {
      "cell_type": "code",
      "metadata": {
        "id": "W0QzVuIw6VLV",
        "colab_type": "code",
        "colab": {}
      },
      "source": [
        "!pip install awscli"
      ],
      "execution_count": 0,
      "outputs": []
    },
    {
      "cell_type": "code",
      "metadata": {
        "id": "4fFaCgllL0H3",
        "colab_type": "code",
        "colab": {}
      },
      "source": [
        "!pip install rasterio"
      ],
      "execution_count": 0,
      "outputs": []
    },
    {
      "cell_type": "code",
      "metadata": {
        "id": "HXqHVz4E7IpD",
        "colab_type": "code",
        "colab": {}
      },
      "source": [
        "!aws configure\n",
        "#!aws s3 sync s3://spacenet-dataset/AOI_1_Rio/ /data/spacenet-dataset/AOI_1_Rio/"
      ],
      "execution_count": 0,
      "outputs": []
    },
    {
      "cell_type": "code",
      "metadata": {
        "id": "NFXITuY8strC",
        "colab_type": "code",
        "colab": {}
      },
      "source": [
        "!rm -rf rvexamples && git clone https://github.com/lukemckinstry/rvexamples"
      ],
      "execution_count": 0,
      "outputs": []
    },
    {
      "cell_type": "code",
      "metadata": {
        "id": "di9wUvkHuMcE",
        "colab_type": "code",
        "colab": {}
      },
      "source": [
        "!touch __init__.py"
      ],
      "execution_count": 0,
      "outputs": []
    },
    {
      "cell_type": "code",
      "metadata": {
        "id": "LZDaysVNv9Ek",
        "colab_type": "code",
        "colab": {}
      },
      "source": [
        "#!mkdir data && mkdir data/examples\n",
        "#!unzip -o spacenet.zip \n",
        "!mv spacenet/ data/examples/spacenet"
      ],
      "execution_count": 0,
      "outputs": []
    },
    {
      "cell_type": "code",
      "metadata": {
        "id": "tgztIXYJpeKt",
        "colab_type": "code",
        "colab": {}
      },
      "source": [
        "import rastervision as rv\n",
        "#from rvexamples.utils import get_scene_info, str_to_bool, save_image_crop"
      ],
      "execution_count": 0,
      "outputs": []
    },
    {
      "cell_type": "code",
      "metadata": {
        "id": "XdA7w_XeqEpE",
        "colab_type": "code",
        "colab": {}
      },
      "source": [
        "RAW_URI=\"s3://spacenet-dataset/\"\n",
        "PROCESSED_URI=\"data/examples/spacenet/rio/processed-data\"\n",
        "ROOT_URI=\"data/examples/spacenet/rio/remote-output\""
      ],
      "execution_count": 0,
      "outputs": []
    },
    {
      "cell_type": "code",
      "metadata": {
        "id": "nALwgJJzqTTp",
        "colab_type": "code",
        "outputId": "3db43f27-b16f-455e-c519-fc00c78dfbcc",
        "colab": {
          "base_uri": "https://localhost:8080/",
          "height": 72
        }
      },
      "source": [
        "RAW_URI, PROCESSED_URI, ROOT_URI"
      ],
      "execution_count": 3,
      "outputs": [
        {
          "output_type": "execute_result",
          "data": {
            "text/plain": [
              "('s3://spacenet-dataset/',\n",
              " 'data/examples/spacenet/rio/processed-data',\n",
              " 'data/examples/spacenet/rio/remote-output')"
            ]
          },
          "metadata": {
            "tags": []
          },
          "execution_count": 3
        }
      ]
    },
    {
      "cell_type": "code",
      "metadata": {
        "id": "qgsHgNHerWAE",
        "colab_type": "code",
        "colab": {}
      },
      "source": [
        "!rastervision run local -e rvexamples.examples.spacenet.rio.chip_classification -a raw_uri {RAW_URI} -a processed_uri {PROCESSED_URI} -a root_uri {ROOT_URI} -a test True --splits 2"
      ],
      "execution_count": 0,
      "outputs": []
    },
    {
      "cell_type": "code",
      "metadata": {
        "id": "tdd78GmOtDmm",
        "colab_type": "code",
        "colab": {}
      },
      "source": [
        ""
      ],
      "execution_count": 0,
      "outputs": []
    }
  ]
}